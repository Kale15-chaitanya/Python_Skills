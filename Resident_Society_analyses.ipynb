{
  "cells": [
    {
      "cell_type": "markdown",
      "metadata": {
        "id": "view-in-github",
        "colab_type": "text"
      },
      "source": [
        "<a href=\"https://colab.research.google.com/github/Kale15-chaitanya/Python_Skills/blob/main/Resident_Society_analyses.ipynb\" target=\"_parent\"><img src=\"https://colab.research.google.com/assets/colab-badge.svg\" alt=\"Open In Colab\"/></a>"
      ]
    },
    {
      "cell_type": "code",
      "execution_count": null,
      "id": "b1257846",
      "metadata": {
        "id": "b1257846"
      },
      "outputs": [],
      "source": [
        "import pandas as pd\n",
        "file_path = \"Resident Society Final_Data.csv\""
      ]
    },
    {
      "cell_type": "code",
      "execution_count": null,
      "id": "ae820ab9",
      "metadata": {
        "id": "ae820ab9",
        "outputId": "03cef2b3-9614-44bb-cf43-98b696820b7a"
      },
      "outputs": [
        {
          "name": "stdout",
          "output_type": "stream",
          "text": [
            "   Unnamed: 0  Flat no Wing Owner Name Owner's Spouse Name No of Resident  \\\n",
            "0           0      101    A      Omkar                   -              4   \n",
            "1           1      102    A    Bhavana                   -              5   \n",
            "2           2      103    A     Govind                   -              5   \n",
            "3           3      201    A      Reena                   -              4   \n",
            "4           4      202    A   Karishma                   -              7   \n",
            "\n",
            "  Confirmed Members Origin of Owner  Flat Area (sq.mt)  No of Room  \\\n",
            "0                 4     Maharashtra                500           2   \n",
            "1                 6       Bangalore                500           2   \n",
            "2                 3       Rajasthan                500           2   \n",
            "3                 2  Madhya Pradesh                550           2   \n",
            "4                15         Gujurat                600           3   \n",
            "\n",
            "  Tenant or owner Maintenance Amt Availlability of owner Flat Vacancy  \\\n",
            "0           Owner            6000                    Yes        Owned   \n",
            "1           Owner            6000                    Yes        Owned   \n",
            "2           Owner            6000                    Yes        Owned   \n",
            "3          Tenant            6000                     No        Owned   \n",
            "4           Owner            7000                     No        Owned   \n",
            "\n",
            "   Donation  \n",
            "0    2500.0  \n",
            "1   10000.0  \n",
            "2    1500.0  \n",
            "3       NaN  \n",
            "4    2500.0  \n"
          ]
        }
      ],
      "source": [
        "df = pd.read_csv(file_path)\n",
        "print(df.head())"
      ]
    },
    {
      "cell_type": "code",
      "execution_count": null,
      "id": "5287c1d5",
      "metadata": {
        "id": "5287c1d5",
        "outputId": "fec71063-9363-4663-9bba-bdca763524eb"
      },
      "outputs": [
        {
          "data": {
            "text/plain": [
              "Unnamed: 0                  int64\n",
              "Flat no                     int64\n",
              "Wing                       object\n",
              "Owner Name                 object\n",
              "Owner's Spouse Name        object\n",
              "No of Resident             object\n",
              "Confirmed Members          object\n",
              "Origin of Owner            object\n",
              "Flat Area (sq.mt)           int64\n",
              "No of Room                  int64\n",
              "Tenant or owner            object\n",
              "Maintenance Amt            object\n",
              "Availlability of owner     object\n",
              "Flat Vacancy               object\n",
              "Donation                  float64\n",
              "dtype: object"
            ]
          },
          "execution_count": 3,
          "metadata": {},
          "output_type": "execute_result"
        }
      ],
      "source": [
        "df.dtypes"
      ]
    },
    {
      "cell_type": "code",
      "execution_count": null,
      "id": "fb85f2b4",
      "metadata": {
        "id": "fb85f2b4",
        "outputId": "1167e9fb-bfdb-45f3-d0cc-907699f3ae1f"
      },
      "outputs": [
        {
          "name": "stdout",
          "output_type": "stream",
          "text": [
            "<class 'pandas.core.frame.DataFrame'>\n",
            "RangeIndex: 60 entries, 0 to 59\n",
            "Data columns (total 15 columns):\n",
            " #   Column                  Non-Null Count  Dtype  \n",
            "---  ------                  --------------  -----  \n",
            " 0   Unnamed: 0              60 non-null     int64  \n",
            " 1   Flat no                 60 non-null     int64  \n",
            " 2   Wing                    60 non-null     object \n",
            " 3   Owner Name              60 non-null     object \n",
            " 4   Owner's Spouse Name     18 non-null     object \n",
            " 5   No of Resident          60 non-null     object \n",
            " 6   Confirmed Members       60 non-null     object \n",
            " 7   Origin of Owner         60 non-null     object \n",
            " 8   Flat Area (sq.mt)       60 non-null     int64  \n",
            " 9   No of Room              60 non-null     int64  \n",
            " 10  Tenant or owner         60 non-null     object \n",
            " 11  Maintenance Amt         32 non-null     object \n",
            " 12  Availlability of owner  60 non-null     object \n",
            " 13  Flat Vacancy            43 non-null     object \n",
            " 14  Donation                55 non-null     float64\n",
            "dtypes: float64(1), int64(4), object(10)\n",
            "memory usage: 7.2+ KB\n"
          ]
        }
      ],
      "source": [
        "df.info()"
      ]
    },
    {
      "cell_type": "code",
      "execution_count": null,
      "id": "fc622294",
      "metadata": {
        "id": "fc622294",
        "outputId": "0bc41faa-30b4-4dd0-b438-9cb03d84f87b"
      },
      "outputs": [
        {
          "data": {
            "text/html": [
              "<div>\n",
              "<style scoped>\n",
              "    .dataframe tbody tr th:only-of-type {\n",
              "        vertical-align: middle;\n",
              "    }\n",
              "\n",
              "    .dataframe tbody tr th {\n",
              "        vertical-align: top;\n",
              "    }\n",
              "\n",
              "    .dataframe thead th {\n",
              "        text-align: right;\n",
              "    }\n",
              "</style>\n",
              "<table border=\"1\" class=\"dataframe\">\n",
              "  <thead>\n",
              "    <tr style=\"text-align: right;\">\n",
              "      <th></th>\n",
              "      <th>Unnamed: 0</th>\n",
              "      <th>Flat no</th>\n",
              "      <th>Flat Area (sq.mt)</th>\n",
              "      <th>No of Room</th>\n",
              "      <th>Donation</th>\n",
              "    </tr>\n",
              "  </thead>\n",
              "  <tbody>\n",
              "    <tr>\n",
              "      <th>count</th>\n",
              "      <td>60.000000</td>\n",
              "      <td>60.000000</td>\n",
              "      <td>60.000000</td>\n",
              "      <td>60.000000</td>\n",
              "      <td>55.000000</td>\n",
              "    </tr>\n",
              "    <tr>\n",
              "      <th>mean</th>\n",
              "      <td>29.500000</td>\n",
              "      <td>552.000000</td>\n",
              "      <td>554.166667</td>\n",
              "      <td>2.416667</td>\n",
              "      <td>4136.363636</td>\n",
              "    </tr>\n",
              "    <tr>\n",
              "      <th>std</th>\n",
              "      <td>17.464249</td>\n",
              "      <td>289.653212</td>\n",
              "      <td>43.464057</td>\n",
              "      <td>0.497167</td>\n",
              "      <td>3228.138073</td>\n",
              "    </tr>\n",
              "    <tr>\n",
              "      <th>min</th>\n",
              "      <td>0.000000</td>\n",
              "      <td>101.000000</td>\n",
              "      <td>500.000000</td>\n",
              "      <td>2.000000</td>\n",
              "      <td>1000.000000</td>\n",
              "    </tr>\n",
              "    <tr>\n",
              "      <th>25%</th>\n",
              "      <td>14.750000</td>\n",
              "      <td>302.000000</td>\n",
              "      <td>500.000000</td>\n",
              "      <td>2.000000</td>\n",
              "      <td>1500.000000</td>\n",
              "    </tr>\n",
              "    <tr>\n",
              "      <th>50%</th>\n",
              "      <td>29.500000</td>\n",
              "      <td>552.000000</td>\n",
              "      <td>550.000000</td>\n",
              "      <td>2.000000</td>\n",
              "      <td>2500.000000</td>\n",
              "    </tr>\n",
              "    <tr>\n",
              "      <th>75%</th>\n",
              "      <td>44.250000</td>\n",
              "      <td>802.000000</td>\n",
              "      <td>600.000000</td>\n",
              "      <td>3.000000</td>\n",
              "      <td>6000.000000</td>\n",
              "    </tr>\n",
              "    <tr>\n",
              "      <th>max</th>\n",
              "      <td>59.000000</td>\n",
              "      <td>1003.000000</td>\n",
              "      <td>600.000000</td>\n",
              "      <td>3.000000</td>\n",
              "      <td>10000.000000</td>\n",
              "    </tr>\n",
              "  </tbody>\n",
              "</table>\n",
              "</div>"
            ],
            "text/plain": [
              "       Unnamed: 0      Flat no  Flat Area (sq.mt)  No of Room      Donation\n",
              "count   60.000000    60.000000          60.000000   60.000000     55.000000\n",
              "mean    29.500000   552.000000         554.166667    2.416667   4136.363636\n",
              "std     17.464249   289.653212          43.464057    0.497167   3228.138073\n",
              "min      0.000000   101.000000         500.000000    2.000000   1000.000000\n",
              "25%     14.750000   302.000000         500.000000    2.000000   1500.000000\n",
              "50%     29.500000   552.000000         550.000000    2.000000   2500.000000\n",
              "75%     44.250000   802.000000         600.000000    3.000000   6000.000000\n",
              "max     59.000000  1003.000000         600.000000    3.000000  10000.000000"
            ]
          },
          "execution_count": 5,
          "metadata": {},
          "output_type": "execute_result"
        }
      ],
      "source": [
        "df.describe()"
      ]
    },
    {
      "cell_type": "code",
      "execution_count": null,
      "id": "83bd979e",
      "metadata": {
        "id": "83bd979e"
      },
      "outputs": [],
      "source": [
        "# Drop columns with more than 10% null values\n",
        "threshold = 0.5 * len(df)  # 50% threshold\n",
        "df = df.dropna(axis=1, thresh =threshold)"
      ]
    },
    {
      "cell_type": "code",
      "execution_count": null,
      "id": "cce20879",
      "metadata": {
        "id": "cce20879",
        "outputId": "c9de2fbf-fba7-44ad-dca3-6db2ddf1fbf3"
      },
      "outputs": [
        {
          "name": "stdout",
          "output_type": "stream",
          "text": [
            "<class 'pandas.core.frame.DataFrame'>\n",
            "RangeIndex: 60 entries, 0 to 59\n",
            "Data columns (total 14 columns):\n",
            " #   Column                  Non-Null Count  Dtype  \n",
            "---  ------                  --------------  -----  \n",
            " 0   Unnamed: 0              60 non-null     int64  \n",
            " 1   Flat no                 60 non-null     int64  \n",
            " 2   Wing                    60 non-null     object \n",
            " 3   Owner Name              60 non-null     object \n",
            " 4   No of Resident          60 non-null     object \n",
            " 5   Confirmed Members       60 non-null     object \n",
            " 6   Origin of Owner         60 non-null     object \n",
            " 7   Flat Area (sq.mt)       60 non-null     int64  \n",
            " 8   No of Room              60 non-null     int64  \n",
            " 9   Tenant or owner         60 non-null     object \n",
            " 10  Maintenance Amt         32 non-null     object \n",
            " 11  Availlability of owner  60 non-null     object \n",
            " 12  Flat Vacancy            43 non-null     object \n",
            " 13  Donation                55 non-null     float64\n",
            "dtypes: float64(1), int64(4), object(9)\n",
            "memory usage: 6.7+ KB\n"
          ]
        }
      ],
      "source": [
        "df.info()"
      ]
    },
    {
      "cell_type": "code",
      "execution_count": null,
      "id": "55d2503a",
      "metadata": {
        "id": "55d2503a",
        "outputId": "c60715fe-24d8-4771-8d5b-d1be1f64d2d6"
      },
      "outputs": [
        {
          "name": "stdout",
          "output_type": "stream",
          "text": [
            "   Unnamed: 0  Flat no Wing Owner Name No of Resident Confirmed Members  \\\n",
            "0           0      101    A      Omkar              4                 4   \n",
            "1           1      102    A    Bhavana              5                 6   \n",
            "2           2      103    A     Govind              5                 3   \n",
            "3           3      201    A      Reena              4                 2   \n",
            "4           4      202    A   Karishma              7                15   \n",
            "\n",
            "  Origin of Owner  Flat Area (sq.mt)  No of Room Tenant or owner  \\\n",
            "0     Maharashtra                500           2           Owner   \n",
            "1       Bangalore                500           2           Owner   \n",
            "2       Rajasthan                500           2           Owner   \n",
            "3  Madhya Pradesh                550           2          Tenant   \n",
            "4         Gujurat                600           3           Owner   \n",
            "\n",
            "  Maintenance Amt Availlability of owner Flat Vacancy  Donation  \n",
            "0            6000                    Yes        Owned    2500.0  \n",
            "1            6000                    Yes        Owned   10000.0  \n",
            "2            6000                    Yes        Owned    1500.0  \n",
            "3            6000                     No        Owned       NaN  \n",
            "4            7000                     No        Owned    2500.0  \n"
          ]
        }
      ],
      "source": [
        "print(df.head())"
      ]
    },
    {
      "cell_type": "code",
      "execution_count": null,
      "id": "f06da533",
      "metadata": {
        "id": "f06da533",
        "outputId": "365f9470-ad5a-4bba-e1ea-b3db00097f84"
      },
      "outputs": [
        {
          "name": "stdout",
          "output_type": "stream",
          "text": [
            "2     16\n",
            "4     13\n",
            "3     11\n",
            "-      4\n",
            "1      4\n",
            "6      2\n",
            "8      2\n",
            "0      2\n",
            "15     1\n",
            "20     1\n",
            "11     1\n",
            "9      1\n",
            "7      1\n",
            "5      1\n",
            "Name: Confirmed Members, dtype: int64\n"
          ]
        }
      ],
      "source": [
        "frequency_distribution = df['Confirmed Members'].value_counts()\n",
        "print(frequency_distribution)"
      ]
    },
    {
      "cell_type": "code",
      "execution_count": null,
      "id": "df592a35",
      "metadata": {
        "id": "df592a35",
        "outputId": "b12030b9-4b40-42a3-df5f-a8dfc854b061"
      },
      "outputs": [
        {
          "data": {
            "image/png": "[encoded data removed]",
            "text/plain": [
              "<Figure size 640x480 with 1 Axes>"
            ]
          },
          "metadata": {},
          "output_type": "display_data"
        }
      ],
      "source": [
        "import matplotlib.pyplot as plt\n",
        "df['Confirmed Members'].value_counts().plot(kind='bar')\n",
        "plt.title('Distribution of No of Resident')\n",
        "plt.xlabel('Categories')\n",
        "plt.ylabel('Count')\n",
        "plt.show()"
      ]
    },
    {
      "cell_type": "code",
      "execution_count": null,
      "id": "42feea5d",
      "metadata": {
        "id": "42feea5d",
        "outputId": "29e5534b-2a93-4984-877d-91b9e468db64"
      },
      "outputs": [
        {
          "name": "stdout",
          "output_type": "stream",
          "text": [
            "14\n"
          ]
        }
      ],
      "source": [
        "# Get the number of unique categories in a categorical variable\n",
        "\n",
        "unique_categories = df['Confirmed Members'].nunique()\n",
        "print(unique_categories)"
      ]
    },
    {
      "cell_type": "code",
      "execution_count": null,
      "id": "cdf8443e",
      "metadata": {
        "id": "cdf8443e",
        "outputId": "1ce73cd4-c2e8-420f-eb1f-d6fe7cce4733"
      },
      "outputs": [
        {
          "name": "stdout",
          "output_type": "stream",
          "text": [
            "Confirmed Members  -  0  1  11  15   2  20   3   4  5  6  7  8  9  All\n",
            "No of Resident                                                        \n",
            "-                  4  0  0   0   0   0   0   0   0  0  0  0  0  0    4\n",
            "1                  0  1  0   0   0   0   0   0   0  0  0  0  0  0    1\n",
            "2                  0  1  2   0   0   3   0   1   0  0  0  0  0  0    7\n",
            "3                  0  0  2   0   0   7   0   1   0  1  1  0  0  0   12\n",
            "4                  0  0  0   0   0   4   0   6   6  0  0  0  0  0   16\n",
            "5                  0  0  0   1   0   2   0   3   5  0  1  0  0  1   13\n",
            "6                  0  0  0   0   0   0   0   0   2  0  0  0  0  0    2\n",
            "7                  0  0  0   0   1   0   1   0   0  0  0  1  0  0    3\n",
            "8                  0  0  0   0   0   0   0   0   0  0  0  0  2  0    2\n",
            "All                4  2  4   1   1  16   1  11  13  1  2  1  2  1   60\n"
          ]
        }
      ],
      "source": [
        "cross_tab = pd.crosstab(df[\"No of Resident\"], df[\"Confirmed Members\"],margins=True)\n",
        "print(cross_tab)"
      ]
    },
    {
      "cell_type": "code",
      "execution_count": null,
      "id": "0a7e0657",
      "metadata": {
        "id": "0a7e0657",
        "outputId": "d1b34d5e-5415-4879-dbcf-3e804bb97025"
      },
      "outputs": [
        {
          "name": "stdout",
          "output_type": "stream",
          "text": [
            "               Column Name  Missing Count  Missing Percentage\n",
            "0               Unnamed: 0              0            0.000000\n",
            "1                  Flat no              0            0.000000\n",
            "2                     Wing              0            0.000000\n",
            "3               Owner Name              0            0.000000\n",
            "4           No of Resident              0            0.000000\n",
            "5        Confirmed Members              0            0.000000\n",
            "6          Origin of Owner              0            0.000000\n",
            "7        Flat Area (sq.mt)              0            0.000000\n",
            "8               No of Room              0            0.000000\n",
            "9          Tenant or owner              0            0.000000\n",
            "10         Maintenance Amt             28           46.666667\n",
            "11  Availlability of owner              0            0.000000\n",
            "12            Flat Vacancy             17           28.333333\n",
            "13                Donation              5            8.333333\n"
          ]
        }
      ],
      "source": [
        "# Identify missing values\n",
        "missing_values = df.isnull()\n",
        "# Count missing values in each column\n",
        "missing_count = df.isnull().sum()\n",
        "# Calculate the percentage of missing values in each column\n",
        "missing_percentage = (missing_count / len(df)) * 100\n",
        "# Create a summary DataFrame with column names, missing count, and missing percentage\n",
        "missing_summary = pd.DataFrame({'Column Name': missing_count.index, 'Missing Count': missing_count.values,\n",
        "                                'Missing Percentage': missing_percentage.values})\n",
        "print(missing_summary)"
      ]
    },
    {
      "cell_type": "code",
      "execution_count": null,
      "id": "ac8421a2",
      "metadata": {
        "id": "ac8421a2",
        "outputId": "a8fbf895-68a9-44bc-e47b-152845c93339"
      },
      "outputs": [
        {
          "data": {
            "image/png": "[encoded data removed]",
            "text/plain": [
              "<Figure size 1000x600 with 1 Axes>"
            ]
          },
          "metadata": {},
          "output_type": "display_data"
        }
      ],
      "source": [
        "import seaborn as sns\n",
        "\n",
        "# Create a heatmap to visualize missing data\n",
        "plt.figure(figsize=(10, 6))  # Set the figure size\n",
        "sns.heatmap(df.isnull(), cbar=False, cmap=\"Greens\")  # 'viridis' is just one of the available color maps\n",
        "\n",
        "# Customize the plot\n",
        "plt.title('Missing Data Heatmap')\n",
        "plt.show()"
      ]
    },
    {
      "cell_type": "code",
      "execution_count": null,
      "id": "5e125236",
      "metadata": {
        "id": "5e125236",
        "outputId": "23c75a8a-af8f-4877-a6a7-3a568c44aeb7"
      },
      "outputs": [
        {
          "name": "stdout",
          "output_type": "stream",
          "text": [
            "Empty DataFrame\n",
            "Columns: [Unnamed: 0, Flat no, Wing, Owner Name, No of Resident, Confirmed Members, Origin of Owner, Flat Area (sq.mt), No of Room, Tenant or owner, Maintenance Amt, Availlability of owner, Flat Vacancy, Donation]\n",
            "Index: []\n"
          ]
        }
      ],
      "source": [
        "# Check for duplicated rows\n",
        "duplicated_rows = df.duplicated()\n",
        "\n",
        "# Count the total number of duplicated rows\n",
        "total_duplicates = duplicated_rows.sum()\n",
        "\n",
        "# View the duplicated rows\n",
        "duplicated_data = df[duplicated_rows]\n",
        "\n",
        "# Investigate the duplicated data\n",
        "print(duplicated_data)"
      ]
    },
    {
      "cell_type": "code",
      "execution_count": null,
      "id": "c2f3e96c",
      "metadata": {
        "id": "c2f3e96c"
      },
      "outputs": [],
      "source": [
        "# Remove duplicated rows and update the DataFrame\n",
        "df = df.drop_duplicates()\n",
        "\n",
        "# Optionally, you can reset the index if it's useful\n",
        "df.reset_index(drop=True, inplace=True)\n",
        "\n"
      ]
    },
    {
      "cell_type": "code",
      "execution_count": null,
      "id": "7fa44aa6",
      "metadata": {
        "id": "7fa44aa6"
      },
      "outputs": [],
      "source": [
        "# Replace \"-\" with a specific value (e.g., \"NA\") in the entire DataFrame\n",
        "df = df.replace('-', 'NA')"
      ]
    },
    {
      "cell_type": "code",
      "execution_count": null,
      "id": "67ac7211",
      "metadata": {
        "id": "67ac7211",
        "outputId": "710ee4ca-c741-4d55-c646-dbd48abecf8d"
      },
      "outputs": [
        {
          "name": "stdout",
          "output_type": "stream",
          "text": [
            "   Unnamed: 0  Flat no Wing Owner Name No of Resident Confirmed Members  \\\n",
            "0           0      101    A      Omkar              4                 4   \n",
            "1           1      102    A    Bhavana              5                 6   \n",
            "2           2      103    A     Govind              5                 3   \n",
            "3           3      201    A      Reena              4                 2   \n",
            "4           4      202    A   Karishma              7                15   \n",
            "\n",
            "  Origin of Owner  Flat Area (sq.mt)  No of Room Tenant or owner  \\\n",
            "0     Maharashtra                500           2           Owner   \n",
            "1       Bangalore                500           2           Owner   \n",
            "2       Rajasthan                500           2           Owner   \n",
            "3  Madhya Pradesh                550           2          Tenant   \n",
            "4         Gujurat                600           3           Owner   \n",
            "\n",
            "  Maintenance Amt Availlability of owner Flat Vacancy  Donation  \n",
            "0            6000                    Yes        Owned    2500.0  \n",
            "1            6000                    Yes        Owned   10000.0  \n",
            "2            6000                    Yes        Owned    1500.0  \n",
            "3            6000                     No        Owned       NaN  \n",
            "4            7000                     No        Owned    2500.0  \n"
          ]
        }
      ],
      "source": [
        "print(df.head())"
      ]
    },
    {
      "cell_type": "code",
      "execution_count": null,
      "id": "6b2dfb79",
      "metadata": {
        "id": "6b2dfb79",
        "outputId": "c831aa38-6f40-44fc-f596-ed665952ccbe"
      },
      "outputs": [
        {
          "name": "stdout",
          "output_type": "stream",
          "text": [
            "Maharashtra       15\n",
            "Kerala             6\n",
            "Rajasthan          5\n",
            "Madhya Pradesh     4\n",
            "Haryana            4\n",
            "Tamil Nadu         4\n",
            "Delhi              3\n",
            "Punjab             3\n",
            "Karnataka          3\n",
            "Gujarat            3\n",
            "Uttar Pradesh      2\n",
            "Bangalore          2\n",
            "Gujurat            2\n",
            "Andhra Pradesh     1\n",
            "NA                 1\n",
            "Kashmir            1\n",
            "Assam              1\n",
            "Name: Origin of Owner, dtype: int64\n"
          ]
        }
      ],
      "source": [
        "frequency_distribution = df['Origin of Owner'].value_counts()\n",
        "print(frequency_distribution)"
      ]
    },
    {
      "cell_type": "code",
      "execution_count": null,
      "id": "2ca17b76",
      "metadata": {
        "id": "2ca17b76",
        "outputId": "7eecb27a-0db0-4dcf-98ec-055ed2ac92d4"
      },
      "outputs": [
        {
          "name": "stdout",
          "output_type": "stream",
          "text": [
            "\n",
            "Check unique values in Unnamed: 0 column:\n",
            "[ 0  1  2  3  4  5  6  7  8  9 10 11 12 13 14 15 16 17 18 19 20 21 22 23\n",
            " 24 25 26 27 28 29 30 31 32 33 34 35 36 37 38 39 40 41 42 43 44 45 46 47\n",
            " 48 49 50 51 52 53 54 55 56 57 58 59]\n",
            "\n",
            "Check unique values in Flat no column:\n",
            "[ 101  102  103  201  202  203  301  302  303  401  402  403  501  502\n",
            "  503  601  602  603  701  702  703  801  802  803  901  902  903 1001\n",
            " 1002 1003]\n",
            "\n",
            "Check unique values in Wing column:\n",
            "['A' 'B']\n",
            "\n",
            "Check unique values in Owner Name column:\n",
            "['Omkar' 'Bhavana' 'Govind' 'Reena' 'Karishma' 'Ragesh' 'Harshad' 'Abdul'\n",
            " 'Lohit' 'Vijay' 'Praveen' 'Arjun' 'Priya' 'Ravi' 'Deepak' 'Nandini'\n",
            " 'Nisha' 'Sunil' 'Priyanka' 'Rahul' 'Anjali' 'Aman' 'alok' 'Pooja' 'Anil'\n",
            " 'Simran' 'mayuri' 'Naveen' 'Anju' 'Vivek' 'tanmay' 'Rohit' 'Ankita'\n",
            " 'Suresh' 'omi' 'Karan' 'Neha' 'Sameer' 'shilpa' 'Romil' 'Sachin' 'Amit'\n",
            " 'abdul' 'Gaurav' 'Ashish' 'Lokesh' 'Mahesh' 'yash' 'rasika' 'Shivam'\n",
            " 'Vikas']\n",
            "\n",
            "Check unique values in No of Resident column:\n",
            "['4' '5' '7' '8' 'NA' '3' '6' '2' '1']\n",
            "\n",
            "Check unique values in Confirmed Members column:\n",
            "['4' '6' '3' '2' '15' '8' '20' 'NA' '1' '11' '9' '0' '7' '5']\n",
            "\n",
            "Check unique values in Origin of Owner column:\n",
            "['Maharashtra' 'Bangalore' 'Rajasthan' 'Madhya Pradesh' 'Gujurat' 'Kerala'\n",
            " 'Gujarat' 'Tamil Nadu' 'Karnataka' 'Uttar Pradesh' 'Delhi' 'Haryana'\n",
            " 'Punjab' 'Andhra Pradesh' 'NA' 'Kashmir' 'Assam']\n",
            "\n",
            "Check unique values in Flat Area (sq.mt) column:\n",
            "[500 550 600]\n",
            "\n",
            "Check unique values in No of Room column:\n",
            "[2 3]\n",
            "\n",
            "Check unique values in Tenant or owner column:\n",
            "['Owner' 'Tenant' 'tenant' 'owner']\n",
            "\n",
            "Check unique values in Maintenance Amt column:\n",
            "['6000' '7000' '5500' 'NA' nan]\n",
            "\n",
            "Check unique values in Availlability of owner column:\n",
            "['Yes' 'No' 'NA']\n",
            "\n",
            "Check unique values in Flat Vacancy column:\n",
            "['Owned' 'Vacant' 'NA' nan]\n",
            "\n",
            "Check unique values in Donation column:\n",
            "[ 2500. 10000.  1500.    nan  5000.  1000.  6000.]\n"
          ]
        }
      ],
      "source": [
        "# Check the unique values in each column\n",
        "\n",
        "for i in df.columns:\n",
        "    print(f\"\\nCheck unique values in {i} column:\")\n",
        "    print(df[i].unique())"
      ]
    },
    {
      "cell_type": "code",
      "execution_count": null,
      "id": "e701529d",
      "metadata": {
        "id": "e701529d"
      },
      "outputs": [],
      "source": []
    }
  ],
  "metadata": {
    "kernelspec": {
      "display_name": "Python 3 (ipykernel)",
      "language": "python",
      "name": "python3"
    },
    "language_info": {
      "codemirror_mode": {
        "name": "ipython",
        "version": 3
      },
      "file_extension": ".py",
      "mimetype": "text/x-python",
      "name": "python",
      "nbconvert_exporter": "python",
      "pygments_lexer": "ipython3",
      "version": "3.10.9"
    },
    "colab": {
      "provenance": [],
      "include_colab_link": true
    }
  },
  "nbformat": 4,
  "nbformat_minor": 5
}